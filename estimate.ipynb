{
 "cells": [
  {
   "cell_type": "code",
   "execution_count": 1,
   "metadata": {},
   "outputs": [
    {
     "name": "stdout",
     "output_type": "stream",
     "text": [
      "Defaulting to user installation because normal site-packages is not writeable\n",
      "Requirement already satisfied: pip in /Users/parthshah/Library/Python/3.9/lib/python/site-packages (24.0)\n",
      "Note: you may need to restart the kernel to use updated packages.\n"
     ]
    }
   ],
   "source": [
    "pip install --upgrade pip"
   ]
  },
  {
   "cell_type": "code",
   "execution_count": 2,
   "metadata": {},
   "outputs": [
    {
     "name": "stdout",
     "output_type": "stream",
     "text": [
      "Defaulting to user installation because normal site-packages is not writeable\n",
      "Requirement already satisfied: sentence-transformers in /Users/parthshah/Library/Python/3.9/lib/python/site-packages (2.6.1)\n",
      "Requirement already satisfied: transformers<5.0.0,>=4.32.0 in /Users/parthshah/Library/Python/3.9/lib/python/site-packages (from sentence-transformers) (4.39.1)\n",
      "Requirement already satisfied: tqdm in /Users/parthshah/Library/Python/3.9/lib/python/site-packages (from sentence-transformers) (4.66.2)\n",
      "Requirement already satisfied: torch>=1.11.0 in /Users/parthshah/Library/Python/3.9/lib/python/site-packages (from sentence-transformers) (2.2.1)\n",
      "Requirement already satisfied: numpy in /Users/parthshah/Library/Python/3.9/lib/python/site-packages (from sentence-transformers) (1.26.4)\n",
      "Requirement already satisfied: scikit-learn in /Users/parthshah/Library/Python/3.9/lib/python/site-packages (from sentence-transformers) (1.4.1.post1)\n",
      "Requirement already satisfied: scipy in /Users/parthshah/Library/Python/3.9/lib/python/site-packages (from sentence-transformers) (1.12.0)\n",
      "Requirement already satisfied: huggingface-hub>=0.15.1 in /Users/parthshah/Library/Python/3.9/lib/python/site-packages (from sentence-transformers) (0.22.1)\n",
      "Requirement already satisfied: Pillow in /Users/parthshah/Library/Python/3.9/lib/python/site-packages (from sentence-transformers) (10.2.0)\n",
      "Requirement already satisfied: filelock in /Users/parthshah/Library/Python/3.9/lib/python/site-packages (from huggingface-hub>=0.15.1->sentence-transformers) (3.13.3)\n",
      "Requirement already satisfied: fsspec>=2023.5.0 in /Users/parthshah/Library/Python/3.9/lib/python/site-packages (from huggingface-hub>=0.15.1->sentence-transformers) (2024.3.1)\n",
      "Requirement already satisfied: packaging>=20.9 in /Users/parthshah/Library/Python/3.9/lib/python/site-packages (from huggingface-hub>=0.15.1->sentence-transformers) (23.1)\n",
      "Requirement already satisfied: pyyaml>=5.1 in /Users/parthshah/Library/Python/3.9/lib/python/site-packages (from huggingface-hub>=0.15.1->sentence-transformers) (6.0.1)\n",
      "Requirement already satisfied: requests in /Users/parthshah/Library/Python/3.9/lib/python/site-packages (from huggingface-hub>=0.15.1->sentence-transformers) (2.31.0)\n",
      "Requirement already satisfied: typing-extensions>=3.7.4.3 in /Users/parthshah/Library/Python/3.9/lib/python/site-packages (from huggingface-hub>=0.15.1->sentence-transformers) (4.10.0)\n",
      "Requirement already satisfied: sympy in /Users/parthshah/Library/Python/3.9/lib/python/site-packages (from torch>=1.11.0->sentence-transformers) (1.12)\n",
      "Requirement already satisfied: networkx in /Users/parthshah/Library/Python/3.9/lib/python/site-packages (from torch>=1.11.0->sentence-transformers) (3.2.1)\n",
      "Requirement already satisfied: jinja2 in /Users/parthshah/Library/Python/3.9/lib/python/site-packages (from torch>=1.11.0->sentence-transformers) (3.1.3)\n",
      "Requirement already satisfied: regex!=2019.12.17 in /Users/parthshah/Library/Python/3.9/lib/python/site-packages (from transformers<5.0.0,>=4.32.0->sentence-transformers) (2023.12.25)\n",
      "Requirement already satisfied: tokenizers<0.19,>=0.14 in /Users/parthshah/Library/Python/3.9/lib/python/site-packages (from transformers<5.0.0,>=4.32.0->sentence-transformers) (0.15.2)\n",
      "Requirement already satisfied: safetensors>=0.4.1 in /Users/parthshah/Library/Python/3.9/lib/python/site-packages (from transformers<5.0.0,>=4.32.0->sentence-transformers) (0.4.2)\n",
      "Requirement already satisfied: joblib>=1.2.0 in /Users/parthshah/Library/Python/3.9/lib/python/site-packages (from scikit-learn->sentence-transformers) (1.3.2)\n",
      "Requirement already satisfied: threadpoolctl>=2.0.0 in /Users/parthshah/Library/Python/3.9/lib/python/site-packages (from scikit-learn->sentence-transformers) (3.4.0)\n",
      "Requirement already satisfied: MarkupSafe>=2.0 in /Users/parthshah/Library/Python/3.9/lib/python/site-packages (from jinja2->torch>=1.11.0->sentence-transformers) (2.1.5)\n",
      "Requirement already satisfied: charset-normalizer<4,>=2 in /Users/parthshah/Library/Python/3.9/lib/python/site-packages (from requests->huggingface-hub>=0.15.1->sentence-transformers) (3.3.2)\n",
      "Requirement already satisfied: idna<4,>=2.5 in /Users/parthshah/Library/Python/3.9/lib/python/site-packages (from requests->huggingface-hub>=0.15.1->sentence-transformers) (3.6)\n",
      "Requirement already satisfied: urllib3<3,>=1.21.1 in /Users/parthshah/Library/Python/3.9/lib/python/site-packages (from requests->huggingface-hub>=0.15.1->sentence-transformers) (2.2.1)\n",
      "Requirement already satisfied: certifi>=2017.4.17 in /Users/parthshah/Library/Python/3.9/lib/python/site-packages (from requests->huggingface-hub>=0.15.1->sentence-transformers) (2024.2.2)\n",
      "Requirement already satisfied: mpmath>=0.19 in /Users/parthshah/Library/Python/3.9/lib/python/site-packages (from sympy->torch>=1.11.0->sentence-transformers) (1.3.0)\n",
      "Note: you may need to restart the kernel to use updated packages.\n"
     ]
    }
   ],
   "source": [
    "pip install sentence-transformers"
   ]
  },
  {
   "cell_type": "code",
   "execution_count": 4,
   "metadata": {},
   "outputs": [],
   "source": [
    "import os\n",
    "import json\n",
    "import numpy as np\n",
    "from sentence_transformers import SentenceTransformer"
   ]
  },
  {
   "cell_type": "code",
   "execution_count": 5,
   "metadata": {},
   "outputs": [],
   "source": [
    "pool_list = [\n",
    "    {\n",
    "       \"name\": \"Machine Learning\",\n",
    "        \"courses\": [\n",
    "            \"Introduction to Machine Learning\",\n",
    "            \"Supervised Learning\",\n",
    "            \"Unsupervised Learning\",\n",
    "            \"Deep Learning\",\n",
    "            \"Reinforcement Learning\",\n",
    "        ]\n",
    "    },\n",
    "    {\n",
    "        \"name\": \"Data Science\",\n",
    "        \"courses\": [\n",
    "            \"Introduction to Data Science\",\n",
    "            \"Data Visualization\",\n",
    "            \"Statistical Analysis\",\n",
    "            \"Python for Data Analysis\",\n",
    "            \"Data Engineering\",\n",
    "        ]\n",
    "    },\n",
    "    {\n",
    "        \"name\": \"Web Development\",\n",
    "       \"courses\": [\n",
    "           \"HTML and CSS Fundamentals\",\n",
    "           \"JavaScript Programming\",\n",
    "           \"Responsive Web Design\",\n",
    "           \"Backend Development\",\n",
    "            \"Frontend Frameworks\",\n",
    "        ]\n",
    "    },\n",
    "   {\n",
    "        \"name\": \"Mobile App Development\",\n",
    "       \"courses\": [\n",
    "           \"Mobile App Design\",\n",
    "           \"iOS App Development\",\n",
    "           \"Android App Development\",\n",
    "          \"Cross-platform App Development\",\n",
    "          \"Mobile App Testing\",\n",
    "       ]\n",
    "   },\n",
    "  {\n",
    "      \"name\": \"Cybersecurity\",\n",
    "       \"courses\": [\n",
    "           \"Introduction to Cybersecurity\",\n",
    "           \"Network Security\",\n",
    "            \"Web Application Security\",\n",
    "            \"Cloud Security\",\n",
    "            \"Threat Intelligence\",\n",
    "       ]\n",
    "   },\n",
    "   ]        "
   ]
  },
  {
   "cell_type": "code",
   "execution_count": 11,
   "metadata": {},
   "outputs": [],
   "source": [
    "model = SentenceTransformer('all-MiniLM-L6-v2')"
   ]
  },
  {
   "cell_type": "code",
   "execution_count": 12,
   "metadata": {},
   "outputs": [],
   "source": [
    "text = \"Python for Data Science\""
   ]
  },
  {
   "cell_type": "code",
   "execution_count": 13,
   "metadata": {},
   "outputs": [],
   "source": [
    "max_score = 0\n"
   ]
  },
  {
   "cell_type": "code",
   "execution_count": 16,
   "metadata": {},
   "outputs": [],
   "source": [
    "for pool in pool_list:\n",
    "    data = pool\n",
    "    all_strings = list(data.keys()) + [text]\n",
    "    embeddings = model.encode(all_strings)\n",
    "    similarities = np.dot(embeddings[:-1], embeddings[-1].T)\n",
    "    similarity_score = np.mean(similarities)\n",
    "    if similarity_score > max_score:\n",
    "        max_score = similarity_score\n",
    "        best = data"
   ]
  },
  {
   "cell_type": "code",
   "execution_count": 17,
   "metadata": {},
   "outputs": [
    {
     "name": "stdout",
     "output_type": "stream",
     "text": [
      "{'name': 'Machine Learning', 'courses': ['Introduction to Machine Learning', 'Supervised Learning', 'Unsupervised Learning', 'Deep Learning', 'Reinforcement Learning']}\n"
     ]
    }
   ],
   "source": [
    "print(best)"
   ]
  }
 ],
 "metadata": {
  "kernelspec": {
   "display_name": "Python 3",
   "language": "python",
   "name": "python3"
  },
  "language_info": {
   "codemirror_mode": {
    "name": "ipython",
    "version": 3
   },
   "file_extension": ".py",
   "mimetype": "text/x-python",
   "name": "python",
   "nbconvert_exporter": "python",
   "pygments_lexer": "ipython3",
   "version": "3.9.6"
  },
  "orig_nbformat": 4
 },
 "nbformat": 4,
 "nbformat_minor": 2
}
