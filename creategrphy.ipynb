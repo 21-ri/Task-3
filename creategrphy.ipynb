{
 "cells": [
  {
   "cell_type": "code",
   "execution_count": 3,
   "metadata": {},
   "outputs": [
    {
     "name": "stdout",
     "output_type": "stream",
     "text": [
      "Defaulting to user installation because normal site-packages is not writeable\n",
      "Requirement already satisfied: networkx in /Users/parthshah/Library/Python/3.9/lib/python/site-packages (3.2.1)\n",
      "\u001b[33mWARNING: You are using pip version 21.2.4; however, version 24.0 is available.\n",
      "You should consider upgrading via the '/Library/Developer/CommandLineTools/usr/bin/python3 -m pip install --upgrade pip' command.\u001b[0m\n",
      "Note: you may need to restart the kernel to use updated packages.\n"
     ]
    }
   ],
   "source": [
    "pip install networkx\n"
   ]
  },
  {
   "cell_type": "code",
   "execution_count": 4,
   "metadata": {},
   "outputs": [
    {
     "name": "stdout",
     "output_type": "stream",
     "text": [
      "Defaulting to user installation because normal site-packages is not writeable\n",
      "Requirement already satisfied: matplotlib in /Users/parthshah/Library/Python/3.9/lib/python/site-packages (3.8.3)\n",
      "Requirement already satisfied: numpy<2,>=1.21 in /Users/parthshah/Library/Python/3.9/lib/python/site-packages (from matplotlib) (1.26.4)\n",
      "Requirement already satisfied: contourpy>=1.0.1 in /Users/parthshah/Library/Python/3.9/lib/python/site-packages (from matplotlib) (1.2.0)\n",
      "Requirement already satisfied: fonttools>=4.22.0 in /Users/parthshah/Library/Python/3.9/lib/python/site-packages (from matplotlib) (4.50.0)\n",
      "Requirement already satisfied: importlib-resources>=3.2.0 in /Users/parthshah/Library/Python/3.9/lib/python/site-packages (from matplotlib) (6.4.0)\n",
      "Requirement already satisfied: packaging>=20.0 in /Users/parthshah/Library/Python/3.9/lib/python/site-packages (from matplotlib) (23.1)\n",
      "Requirement already satisfied: python-dateutil>=2.7 in /Users/parthshah/Library/Python/3.9/lib/python/site-packages (from matplotlib) (2.8.2)\n",
      "Requirement already satisfied: pillow>=8 in /Users/parthshah/Library/Python/3.9/lib/python/site-packages (from matplotlib) (10.2.0)\n",
      "Requirement already satisfied: pyparsing>=2.3.1 in /Users/parthshah/Library/Python/3.9/lib/python/site-packages (from matplotlib) (3.1.2)\n",
      "Requirement already satisfied: cycler>=0.10 in /Users/parthshah/Library/Python/3.9/lib/python/site-packages (from matplotlib) (0.12.1)\n",
      "Requirement already satisfied: kiwisolver>=1.3.1 in /Users/parthshah/Library/Python/3.9/lib/python/site-packages (from matplotlib) (1.4.5)\n",
      "Requirement already satisfied: zipp>=3.1.0 in /Users/parthshah/Library/Python/3.9/lib/python/site-packages (from importlib-resources>=3.2.0->matplotlib) (3.15.0)\n",
      "Requirement already satisfied: six>=1.5 in /Library/Developer/CommandLineTools/Library/Frameworks/Python3.framework/Versions/3.9/lib/python3.9/site-packages (from python-dateutil>=2.7->matplotlib) (1.15.0)\n",
      "\u001b[33mWARNING: You are using pip version 21.2.4; however, version 24.0 is available.\n",
      "You should consider upgrading via the '/Library/Developer/CommandLineTools/usr/bin/python3 -m pip install --upgrade pip' command.\u001b[0m\n",
      "Note: you may need to restart the kernel to use updated packages.\n"
     ]
    }
   ],
   "source": [
    "pip install matplotlib\n"
   ]
  },
  {
   "cell_type": "code",
   "execution_count": 5,
   "metadata": {},
   "outputs": [
    {
     "name": "stdout",
     "output_type": "stream",
     "text": [
      "Defaulting to user installation because normal site-packages is not writeable\n",
      "Requirement already satisfied: pool in /Users/parthshah/Library/Python/3.9/lib/python/site-packages (0.1.2.dev0)\n",
      "\u001b[33mWARNING: You are using pip version 21.2.4; however, version 24.0 is available.\n",
      "You should consider upgrading via the '/Library/Developer/CommandLineTools/usr/bin/python3 -m pip install --upgrade pip' command.\u001b[0m\n",
      "Note: you may need to restart the kernel to use updated packages.\n"
     ]
    }
   ],
   "source": [
    "pip install pool"
   ]
  },
  {
   "cell_type": "code",
   "execution_count": 6,
   "metadata": {},
   "outputs": [
    {
     "name": "stdout",
     "output_type": "stream",
     "text": [
      "Defaulting to user installation because normal site-packages is not writeable\n",
      "Requirement already satisfied: scipy in /Users/parthshah/Library/Python/3.9/lib/python/site-packages (1.12.0)\n",
      "Requirement already satisfied: numpy<1.29.0,>=1.22.4 in /Users/parthshah/Library/Python/3.9/lib/python/site-packages (from scipy) (1.26.4)\n",
      "\u001b[33mWARNING: You are using pip version 21.2.4; however, version 24.0 is available.\n",
      "You should consider upgrading via the '/Library/Developer/CommandLineTools/usr/bin/python3 -m pip install --upgrade pip' command.\u001b[0m\n",
      "Note: you may need to restart the kernel to use updated packages.\n"
     ]
    }
   ],
   "source": [
    "pip install scipy"
   ]
  },
  {
   "cell_type": "code",
   "execution_count": 7,
   "metadata": {},
   "outputs": [],
   "source": [
    "import networkx as nx\n",
    "from io import BytesIO\n",
    "import base64\n",
    "import matplotlib.pyplot as plt\n",
    "import matplotlib.patches as mpatches\n",
    "import matplotlib\n",
    "import pool\n",
    "import sys\n",
    "import scipy as sp\n",
    "import networkx as nx\n"
   ]
  },
  {
   "cell_type": "code",
   "execution_count": 25,
   "metadata": {},
   "outputs": [],
   "source": [
    "plt.rcParams['font.sans-serif']=['Arial'] \n",
    "plt.rcParams['axes.unicode_minus']=False \n",
    "plt.rcParams['figure.figsize']=(10,10) \n",
    "matplotlib.use('agg')"
   ]
  },
  {
   "cell_type": "code",
   "execution_count": 26,
   "metadata": {},
   "outputs": [],
   "source": [
    "def create_graphy(topic,pool,result):\n",
    "    plt.figure()\n",
    "    relations=[]\n",
    "    list=result.split('\\'')\n",
    "    i=0\n",
    "    while i+6<len(list):\n",
    "        temp=[list[i+1],list[i+3],list[i+5]]\n",
    "        relations.append(temp)\n",
    "        i+=6"
   ]
  },
  {
   "cell_type": "code",
   "execution_count": 27,
   "metadata": {},
   "outputs": [],
   "source": [
    "sys.path.append('/Users/parthshah/Desktop/MLProject/lpg')"
   ]
  },
  {
   "cell_type": "code",
   "execution_count": 28,
   "metadata": {},
   "outputs": [
    {
     "name": "stdout",
     "output_type": "stream",
     "text": [
      "Parent: parent2, Children: ['child4', 'child5']\n"
     ]
    }
   ],
   "source": [
    "G = nx.DiGraph()\n",
    "step=0\n",
    "num=1\n",
    "pool = [\n",
    "    ('parent1', ['child1', 'child2', 'child3']),\n",
    "    ('parent2', ['child4', 'child5']),\n",
    "]\n",
    "\n",
    "for parent, children in pool:\n",
    "    G.add_node(parent, level=num)\n",
    "    num = num + step\n",
    "    step = 1 - step\n",
    "\n",
    "    for child in children:\n",
    "        if child != parent:\n",
    "            G.add_node(child, level=0)\n",
    "            G.add_edge(parent, child, edge_type='child')\n",
    "print(f\"Parent: {parent}, Children: {children}\")"
   ]
  },
  {
   "cell_type": "code",
   "execution_count": 29,
   "metadata": {},
   "outputs": [],
   "source": [
    "nodes = set()\n",
    "relations = [\n",
    "    ('Array', 'Linked List'),\n",
    "    ('Linked List', 'Stack'),\n",
    "    ('Stack', 'Queue'),\n",
    "    ('Queue', 'Tree'),\n",
    "    ('Tree', 'Graph'),\n",
    "    ('Graph', 'Algorithm Design')\n",
    "]\n",
    "for relation in relations:\n",
    "        nodes.update(relation)\n",
    "for node in nodes:\n",
    "    G.add_node(node)\n",
    "for source, target in relations:\n",
    "    G.add_edge(source, target, edge_type='parent')"
   ]
  },
  {
   "cell_type": "code",
   "execution_count": 30,
   "metadata": {},
   "outputs": [],
   "source": [
    "pos = nx.kamada_kawai_layout(G)"
   ]
  },
  {
   "cell_type": "code",
   "execution_count": 31,
   "metadata": {},
   "outputs": [],
   "source": [
    "node_sizes = []\n",
    "node_colors = []"
   ]
  },
  {
   "cell_type": "code",
   "execution_count": 32,
   "metadata": {},
   "outputs": [],
   "source": [
    "for n in G.nodes():\n",
    "    if 'level' in G.nodes[n]:\n",
    "        level = G.nodes[n]['level']\n",
    "        if level == 0:\n",
    "            node_sizes.append(500)\n",
    "            node_colors.append('lightblue')\n",
    "        else:\n",
    "            node_sizes.append(1000)\n",
    "            node_colors.append('lightgreen')\n",
    "    else:\n",
    "        node_sizes.append(500)\n",
    "        node_colors.append('lightblue')\n"
   ]
  },
  {
   "cell_type": "code",
   "execution_count": 33,
   "metadata": {},
   "outputs": [],
   "source": [
    "import numpy as np\n",
    "\n",
    "node_sizes_array = np.array(node_sizes)"
   ]
  },
  {
   "cell_type": "code",
   "execution_count": 34,
   "metadata": {},
   "outputs": [],
   "source": [
    "topic = \"Introduction to Python Programming\""
   ]
  },
  {
   "cell_type": "code",
   "execution_count": 23,
   "metadata": {},
   "outputs": [
    {
     "data": {
      "text/plain": [
       "<matplotlib.legend.Legend at 0x126afb310>"
      ]
     },
     "execution_count": 23,
     "metadata": {},
     "output_type": "execute_result"
    }
   ],
   "source": [
    "patch1 = mpatches.Patch(color='gray', label='Prerequisite Knowledge', linewidth=5.0, linestyle='-')\n",
    "patch2 = mpatches.Patch(color='blue', label='Subtopic', linewidth=1.0, linestyle='-')\n",
    "plt.legend(handles=[patch1, patch2], loc='best')"
   ]
  },
  {
   "cell_type": "code",
   "execution_count": 39,
   "metadata": {},
   "outputs": [],
   "source": [
    "plt.title(topic, fontsize=16)\n",
    "plt.axis('off')\n",
    "plt.savefig('course_structure.png', dpi=300)"
   ]
  },
  {
   "cell_type": "code",
   "execution_count": 1,
   "metadata": {},
   "outputs": [],
   "source": [
    "def create_graph(topic, pool, relations):\n",
    "    pass\n",
    "if __name__ == \"__main__\":\n",
    "    pool = [['Array', []], ['Linked List', []], ['Stack', []], ['Queue', []], ['Tree', []], ['Graph', []], ['Algorithm Design', ['Simple Algorithms', 'Advanced Algorithms']]]\n",
    "    relations = \"relations = Relations([Triple(Knowledge('Array'), Rel('Precursor'),Knowledge('Linked List')),\\n                       Triple(Knowledge('Linked List'), Rel('Precursor'),Knowledge('Stack')),\\n                       Triple(Knowledge('Stack'), Rel('Precursor'),Knowledge('Queue')),\\n                       Triple(Knowledge('Queue'), Rel('Precursor'),Knowledge('Tree')),\\n                       Triple(Knowledge('Tree'), Rel('Precursor'),Knowledge('Graph')),\\n                       Triple(Knowledge('Graph'), Rel('Precursor'),Knowledge('Algorithm Design')),])\"\n",
    "    create_graph(\"Learning Data Structures\", pool, relations)\n",
    "\n",
    "    pool = [['Array', []], ['Linked List', []], ['Stack', []], ['Queue', []], ['Tree', []], ['Graph', []], ['Algorithm Design', []]]\n",
    "    create_graph(\"Learning Data Structures\", pool, relations)"
   ]
  }
 ],
 "metadata": {
  "kernelspec": {
   "display_name": "Python 3",
   "language": "python",
   "name": "python3"
  },
  "language_info": {
   "codemirror_mode": {
    "name": "ipython",
    "version": 3
   },
   "file_extension": ".py",
   "mimetype": "text/x-python",
   "name": "python",
   "nbconvert_exporter": "python",
   "pygments_lexer": "ipython3",
   "version": "3.10.11"
  },
  "orig_nbformat": 4
 },
 "nbformat": 4,
 "nbformat_minor": 2
}
